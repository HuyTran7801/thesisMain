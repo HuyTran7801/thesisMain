{
 "cells": [
  {
   "cell_type": "code",
   "execution_count": 7,
   "metadata": {},
   "outputs": [],
   "source": [
    "MISTRAL_API_KEY='20Y66IO4m8yVqc8SFodejVKVZAXiXKhN'\n",
    "model='open-mistral-nemo'\n",
    "# model = 'mistral-large-2411'\n",
    "# model = 'codestral-2501'"
   ]
  },
  {
   "cell_type": "code",
   "execution_count": 11,
   "metadata": {},
   "outputs": [
    {
     "name": "stdout",
     "output_type": "stream",
     "text": [
      "Sure, here are 10 multiple-choice questions (MCQs) related to the context you've provided:\n",
      "\n",
      "1. **What does AI stand for in the context of computer science?**\n",
      "   A) Artificial Intelligence\n",
      "   B) Algorithmic Improvement\n",
      "   C) Automated Information\n",
      "   D) None of the above\n",
      "\n",
      "2. **Which of the following is NOT a key component of AI?**\n",
      "   A) Machine Learning\n",
      "   B) Natural Language Processing\n",
      "   C) Common Sense Reasoning\n",
      "   D) Deep Learning\n",
      "\n",
      "3. **What is the primary goal of AI in computer science?**\n",
      "   A) To replace human intelligence\n",
      "   B) To augment human intelligence\n",
      "   C) To mimic human behavior\n",
      "   D) To create a perfect simulation of the human brain\n",
      "\n",
      "4. **Which of the following is a major challenge in AI?**\n",
      "   A) Lack of data\n",
      "   B) Excessive data\n",
      "   C) Lack of computational power\n",
      "   D) Lack of creativity\n",
      "\n",
      "5. **What is the Turing Test, proposed by Alan Turing?**\n",
      "   A) A test to determine if a machine can exhibit intelligent behavior equivalent to, or indistinguishable from, that of a human\n",
      "   B) A test to measure the speed of a computer\n",
      "   C) A test to evaluate the efficiency of an algorithm\n",
      "   D) None of the above\n",
      "\n",
      "6. **Which of the following is a popular AI technique used in image recognition?**\n",
      "   A) Decision Trees\n",
      "   B) Naive Bayes\n",
      "   C) Convolutional Neural Networks (CNN)\n",
      "   D) K-Means Clustering\n",
      "\n",
      "7. **What is the term used to describe AI that can learn and adapt to new situations?**\n",
      "   A) Static AI\n",
      "   B) Dynamic AI\n",
      "   C) Adaptive AI\n",
      "   D) Intelligent AI\n",
      "\n",
      "8. **Which of the following is a key aspect of AI ethics?**\n",
      "   A) Ensuring AI can never harm humans\n",
      "   B) Making AI as powerful as possible\n",
      "   C) Balancing the benefits and risks of AI\n",
      "   D) Making AI as human-like as possible\n",
      "\n",
      "9. **What is the term used to describe AI that can understand, interpret, and generate human language?**\n",
      "   A) Machine Learning\n",
      "   B) Natural Language Processing\n",
      "   C) Deep Learning\n",
      "   D) Computer Vision\n",
      "\n",
      "10. **According to the context, what is the role of AI in future life?**\n",
      "    A) To become obsolete\n",
      "    B) To remain static\n",
      "    C) To have a crucial part\n",
      "    D) To be a passing fad\n"
     ]
    }
   ],
   "source": [
    "from mistralai import Mistral\n",
    "\n",
    "# api_key = os.environ[\"MISTRAL_API_KEY\"]\n",
    "# model = \"mistral-large-latest\"\n",
    "\n",
    "client = Mistral(api_key=MISTRAL_API_KEY)\n",
    "\n",
    "chat_response = client.chat.complete(\n",
    "    model = model,\n",
    "    messages = [\n",
    "        {\n",
    "            \"role\": \"user\",\n",
    "            \"content\": \"\"\"\n",
    "            You are a role of an expert in Computer Science.\n",
    "            Here is a context: <AI is a crucial part of computer science, \n",
    "            its has a contribution in a future life.>\n",
    "            Generate to me 10 MCQs relate to aboce context.\"\"\",\n",
    "        },\n",
    "    ]\n",
    ")\n",
    "\n",
    "print(chat_response.choices[0].message.content)\n"
   ]
  },
  {
   "cell_type": "code",
   "execution_count": 8,
   "metadata": {},
   "outputs": [
    {
     "name": "stdout",
     "output_type": "stream",
     "text": [
      "Let's think through this step-by-step:\n",
      "\n",
      "1. You start with 6 candies.\n",
      "2. After eating 2 candies, you have 6 - 2 = 4 candies left.\n",
      "3. Then, you buy 5 more candies, so you add those to your current amount: 4 + 5 = 9 candies.\n",
      "\n",
      "Now, you have 9 candies.\n"
     ]
    }
   ],
   "source": [
    "res = client.chat.complete(\n",
    "    model=model,\n",
    "    messages=[\n",
    "        {\"role\": \"user\", \"content\": \"\"\"\n",
    "         I have 3 candies, I eat 2 candies. How many candies do I have left?\n",
    "         Let's think step by step.\n",
    "         \"\"\"},\n",
    "        {\"role\": \"assistant\", \"content\": \"\"\"\n",
    "         Let me think about it.\n",
    "         First, you have 3 candies.\n",
    "         Then you eat 2 candies, the remain is 3 - 2 = 1.\n",
    "         So, you have 1 candy left.\n",
    "         \"\"\"},\n",
    "        {\"role\": \"user\", \"content\": \"\"\"\n",
    "         I have 6 candies, I eat 2 candies. Then I bought 5 more candies. How many candies do I have now?\n",
    "         \"\"\"}\n",
    "    ],\n",
    ")\n",
    "\n",
    "print(res.choices[0].message.content)"
   ]
  },
  {
   "cell_type": "code",
   "execution_count": 10,
   "metadata": {},
   "outputs": [
    {
     "name": "stdout",
     "output_type": "stream",
     "text": [
      "The United States broke away from England through a process that began with the American Revolution and ended with the signing of the Treaty of Paris in 1783. Here are some key dates:\n",
      "\n",
      "1. **April 19, 1775**: The first shots of the American Revolution were fired in the Battles of Lexington and Concord.\n",
      "\n",
      "2. **July 4, 1776**: The Continental Congress adopted the Declaration of Independence, declaring the 13 American colonies a new, independent nation called the United States of America.\n",
      "\n",
      "3. **September 3, 1783**: The preliminary articles of peace were signed between the United States and Great Britain, effectively ending the war.\n",
      "\n",
      "4. **September 3, 1783**: The formal Treaty of Paris was signed, officially recognizing the United States as an independent nation. This is the date often cited as the end of the Revolutionary War and the beginning of U.S. independence.\n",
      "\n",
      "So, while the process of breaking away was ongoing for several years, the U.S. is considered to have officially gained its independence from England on September 3, 1783.\n"
     ]
    }
   ],
   "source": [
    "res2 = client.chat.complete(\n",
    "    model=model,\n",
    "    messages=[\n",
    "        {\"role\": \"user\", \"content\": \"\"\"When did the US break away from England?\"\"\"}\n",
    "    ]\n",
    ")\n",
    "print(res2.choices[0].message.content)"
   ]
  },
  {
   "cell_type": "code",
   "execution_count": null,
   "metadata": {},
   "outputs": [],
   "source": []
  }
 ],
 "metadata": {
  "kernelspec": {
   "display_name": "Python 3",
   "language": "python",
   "name": "python3"
  },
  "language_info": {
   "codemirror_mode": {
    "name": "ipython",
    "version": 3
   },
   "file_extension": ".py",
   "mimetype": "text/x-python",
   "name": "python",
   "nbconvert_exporter": "python",
   "pygments_lexer": "ipython3",
   "version": "3.12.8"
  }
 },
 "nbformat": 4,
 "nbformat_minor": 2
}
